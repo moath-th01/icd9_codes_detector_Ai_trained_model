{
  "cells": [
    {
      "cell_type": "code",
      "execution_count": null,
      "metadata": {
        "collapsed": true,
        "id": "gdIRq6FNc28t"
      },
      "outputs": [],
      "source": [
        "# !pip install -U datasets\n",
        "# !pip install fsspec==2023.9.2\n",
        "# !pip install transformers datasets scikit-learn tqdm\n",
        "# !pip install torchmetrics\n"
      ]
    },
    {
      "cell_type": "code",
      "execution_count": null,
      "metadata": {
        "id": "_xkPEYS4bwIO",
        "outputId": "52252c68-d0bf-4e01-a367-a25087fb2d8c"
      },
      "outputs": [
        {
          "name": "stderr",
          "output_type": "stream",
          "text": [
            "c:\\Users\\ahmad\\AppData\\Local\\Programs\\Python\\Python313\\Lib\\site-packages\\tqdm\\auto.py:21: TqdmWarning: IProgress not found. Please update jupyter and ipywidgets. See https://ipywidgets.readthedocs.io/en/stable/user_install.html\n",
            "  from .autonotebook import tqdm as notebook_tqdm\n"
          ]
        }
      ],
      "source": [
        "import torch\n",
        "import torch.nn as nn\n",
        "from torch.utils.data import Dataset, DataLoader\n",
        "from transformers import AutoTokenizer, AutoModel\n",
        "from sklearn.preprocessing import MultiLabelBinarizer\n",
        "from sklearn.model_selection import train_test_split\n",
        "from sklearn.metrics import precision_score, recall_score, f1_score, hamming_loss\n",
        "import pandas as pd\n",
        "import numpy as np\n",
        "from tqdm import tqdm\n",
        "import gc\n",
        "from torch.cuda.amp import autocast, GradScaler\n",
        "import torchmetrics"
      ]
    },
    {
      "cell_type": "code",
      "execution_count": null,
      "metadata": {
        "id": "V3iNw3sxbyHk"
      },
      "outputs": [],
      "source": [
        "# 1. Device setup\n",
        "device = torch.device('cuda' if torch.cuda.is_available() else 'cpu')\n"
      ]
    },
    {
      "cell_type": "code",
      "execution_count": null,
      "metadata": {
        "id": "g_GEpbZLbyFW"
      },
      "outputs": [],
      "source": [
        "from datasets import load_dataset\n",
        "\n",
        "# 1) Load full train split\n",
        "ds_full = load_dataset(\"rntc/mimic-icd-visit\", split=\"train\")\n",
        "\n",
        "# 2) Subset first 50k examples\n",
        "ds_small = ds_full.select(range(50000))  # returns a Dataset object :contentReference[oaicite:5]{index=5}\n",
        "\n",
        "# 3) Convert to pandas\n",
        "df = ds_small.to_pandas()\n"
      ]
    },
    {
      "cell_type": "code",
      "execution_count": null,
      "metadata": {
        "id": "USXcKbw8byDB"
      },
      "outputs": [],
      "source": [
        "# 3) Train/validation split\n",
        "train_df, val_df = train_test_split(df, test_size=0.1, random_state=42)\n"
      ]
    },
    {
      "cell_type": "code",
      "execution_count": null,
      "metadata": {
        "id": "kc4EPP1TbyAr"
      },
      "outputs": [],
      "source": [
        "\n",
        "# 4) Tokenizer\n",
        "tokenizer = AutoTokenizer.from_pretrained(\"emilyalsentzer/Bio_ClinicalBERT\")\n"
      ]
    },
    {
      "cell_type": "code",
      "execution_count": null,
      "metadata": {
        "colab": {
          "base_uri": "https://localhost:8080/"
        },
        "id": "3CowGM97bx-k",
        "outputId": "ba1483a6-e5a3-4617-b08d-9b1734dc26dd"
      },
      "outputs": [
        {
          "name": "stderr",
          "output_type": "stream",
          "text": [
            "c:\\Users\\ahmad\\AppData\\Local\\Programs\\Python\\Python313\\Lib\\site-packages\\sklearn\\preprocessing\\_label.py:909: UserWarning: unknown class(es) ['A240', 'A5619', 'B1711', 'B188', 'B3323', 'B376', 'B3783', 'B463', 'B949', 'C028', 'C44229', 'C716', 'C7650', 'C7A026', 'C7A029', 'C8350', 'C8594', 'C9221', 'C9242', 'D0581', 'D1610', 'D169', 'D210', 'D224', 'D334', 'D3611', 'D376', 'D4622', 'D4989', 'E034', 'E0921', 'E09319', 'E0942', 'E103291', 'E103511', 'E113213', 'E11331', 'E11620', 'E229', 'E233', 'E7029', 'E70319', 'E7881', 'E838', 'F10282', 'F11929', 'F13280', 'F13929', 'F19150', 'F19151', 'F1917', 'F19181', 'F19232', 'F980', 'G1222', 'G44029', 'G4763', 'G547', 'G5611', 'G5711', 'G5712', 'G5773', 'H02209', 'H02529', 'H0263', 'H0266', 'H059', 'H10419', 'H25043', 'H26222', 'H33319', 'H35041', 'H353130', 'H35341', 'H35349', 'H4011X2', 'H4031X0', 'H5015', 'H5021', 'H5040', 'H59091', 'H6022', 'H608X3', 'H6592', 'H66012', 'H70092', 'H8111', 'H906', 'I011', 'I072', 'I4902', 'I69132', 'I69264', 'I69313', 'I69834', 'I70299', 'I70344', 'I82533', 'I83025', 'I87091', 'I87302', 'I97811', 'J0110', 'J042', 'J634', 'K032', 'K0402', 'K277', 'K280', 'K281', 'K3530', 'K51013', 'K51019', 'K5140', 'K5740', 'K9581', 'L02222', 'L02231', 'L303', 'L42', 'L89132', 'L909', 'L97314', 'L98495', 'M00841', 'M00872', 'M0089', 'M0239', 'M05341', 'M05342', 'M07649', 'M07661', 'M07662', 'M0890', 'M1040', 'M1230', 'M12572', 'M13172', 'M189', 'M1992', 'M21271', 'M21611', 'M21612', 'M21761', 'M2420', 'M25311', 'M25352', 'M25469', 'M25661', 'M25662', 'M25832', 'M25872', 'M4135', 'M4182', 'M4319', 'M4635', 'M4713', 'M4810', 'M4815', 'M4819', 'M4855XG', 'M5386', 'M60000', 'M62152', 'M62549', 'M65311', 'M65822', 'M67813', 'M67972', 'M7710', 'M80061A', 'M84422K', 'M84521D', 'M84522A', 'M84552D', 'M84559D', 'M84559G', 'M85412', 'M86472', 'M86612', 'M87874', 'M87875', 'M89761', 'M898X5', 'M90521', 'M9088', 'N143', 'N172', 'N310', 'N3942', 'N430', 'N431', 'N454', 'N5239', 'N6011', 'N6012', 'N7092', 'N83331', 'N83332', 'N905', 'O1495', 'O2413', 'O3112X1', 'O34592', 'O368192', 'O368931', 'O411231', 'O411232', 'O4452', 'O630', 'O655', 'O6640', 'O702', 'O98519', 'Q188', 'Q2730', 'Q341', 'Q51828', 'Q560', 'Q6419', 'Q7292', 'R311', 'R361', 'R3982', 'R402410', 'R4581', 'R7612', 'R846', 'S0100XA', 'S01302A', 'S02602B', 'S02632A', 'S0421XS', 'S058X2S', 'S061X0D', 'S06366A', 'S06380D', 'S1201XA', 'S13140A', 'S13150A', 'S139XXA', 'S14129A', 'S145XXA', 'S20311A', 'S21119A', 'S22089S', 'S24109A', 'S24109S', 'S24113S', 'S25499A', 'S26020A', 'S2753XA', 'S300XXD', 'S3131XA', 'S31502A', 'S31609A', 'S32009S', 'S32010D', 'S32049S', 'S32502D', 'S36031D', 'S3662XA', 'S36898S', 'S3790XA', 'S38221A', 'S3992XA', 'S41132A', 'S42114A', 'S42192A', 'S42212B', 'S42212K', 'S42215A', 'S42402K', 'S4492XA', 'S45812A', 'S46022A', 'S46122A', 'S471XXA', 'S51031A', 'S52201D', 'S52511A', 'S53144A', 'S53195A', 'S53491A', 'S60229A', 'S61236A', 'S62101A', 'S62201A', 'S62291B', 'S62311A', 'S62321A', 'S62325A', 'S63112A', 'S65191S', 'S66221A', 'S68127A', 'S68521A', 'S72009D', 'S72012D', 'S72012K', 'S72051D', 'S72321A', 'S72421G', 'S72431G', 'S72491S', 'S75001A', 'S80871A', 'S81001A', 'S81032A', 'S81811D', 'S82002C', 'S82121A', 'S82192A', 'S82401D', 'S82454A', 'S82841D', 'S82854A', 'S82872C', 'S86012A', 'S89192A', 'S89302A', 'S8982XA', 'S90561A', 'S90811A', 'S91002S', 'S91119A', 'S91202D', 'S92031A', 'S92192B', 'S92221B', 'S92231B', 'S92241B', 'S92302D', 'S92311B', 'S92321B', 'S92331B', 'S92402A', 'S92402D', 'S92411A', 'S92534A', 'S93315A', 'S9422XA', 'T1512XA', 'T17218A', 'T17228A', 'T17298A', 'T17900D', 'T22221A', 'T270XXA', 'T280XXA', 'T33832A', 'T387X1A', 'T402X4A', 'T402X5D', 'T405X1S', 'T405X4A', 'T407X2A', 'T413X1A', 'T424X4A', 'T43211A', 'T433X1A', 'T43631A', 'T44992A', 'T505X1A', 'T50995D', 'T5194XA', 'T63441S', 'T65221S', 'T69022A', 'T81500A', 'T81590A', 'T82318A', 'T82837A', 'T82898D', 'T8339XA', 'T8386XA', 'T84022D', 'T84050A', 'T84062A', 'T84098A', 'T84111D', 'T8489XS', 'T8522XA', 'T8541XA', 'T8544XS', 'T85612A', 'T85868D', 'T86848', 'T879', 'V183XXA', 'V405XXA', 'V4392XS', 'V571XXA', 'V576XXA', 'V581XXA', 'V817XXA', 'V8692XS', 'V988XXS', 'W130XXS', 'W450XXA', 'W4909XA', 'W5512XA', 'W57XXXS', 'W74XXXA', 'X32XXXS', 'X93XXXS', 'Y249XXA', 'Y249XXS', 'Y36430S', 'Y654', 'Y781', 'Y92520', 'Y9322', 'Z0001', 'Z0471', 'Z3046', 'Z48813', 'Z6372', 'Z7721', 'Z87410', 'Z89201', 'Z96669'] will be ignored\n",
            "  warnings.warn(\n"
          ]
        }
      ],
      "source": [
        "# 5. Encode labels\n",
        "mlb = MultiLabelBinarizer()\n",
        "y_train = mlb.fit_transform(train_df['icd_code'])\n",
        "y_val   = mlb.transform(val_df['icd_code'])"
      ]
    },
    {
      "cell_type": "code",
      "execution_count": null,
      "metadata": {
        "id": "TTlfglBxbx8A"
      },
      "outputs": [],
      "source": [
        "# 6. Dataset class\n",
        "class ICD9Dataset(Dataset):\n",
        "    def __init__(self, texts, labels, tokenizer, max_length=128):\n",
        "        self.texts = texts\n",
        "        self.labels = labels\n",
        "        self.tokenizer = tokenizer\n",
        "        self.max_length = max_length\n",
        "\n",
        "    def __len__(self):\n",
        "        return len(self.texts)\n",
        "\n",
        "    def __getitem__(self, idx):\n",
        "        text = str(self.texts.iloc[idx])\n",
        "        label = self.labels[idx]\n",
        "        enc = self.tokenizer(\n",
        "            text,\n",
        "            truncation=True,\n",
        "            padding='max_length',\n",
        "            max_length=self.max_length,\n",
        "            return_tensors='pt'\n",
        "        )\n",
        "        return {\n",
        "            'input_ids':      enc['input_ids'].squeeze(0),\n",
        "            'attention_mask': enc['attention_mask'].squeeze(0),\n",
        "            'labels':         torch.tensor(label, dtype=torch.float)\n",
        "        }"
      ]
    },
    {
      "cell_type": "code",
      "execution_count": null,
      "metadata": {
        "id": "XywVgoQEj1wr"
      },
      "outputs": [],
      "source": [
        "# 7. Datasets & Dataloaders\n",
        "train_ds = ICD9Dataset(train_df['cleaned_text'], y_train, tokenizer)\n",
        "val_ds   = ICD9Dataset(val_df['cleaned_text'],   y_val,   tokenizer)\n",
        "\n",
        "batch_size = 16\n",
        "train_loader = DataLoader(train_ds, batch_size=batch_size, shuffle=True,  num_workers=0)\n",
        "val_loader   = DataLoader(val_ds,   batch_size=batch_size, shuffle=False, num_workers=0)"
      ]
    },
    {
      "cell_type": "code",
      "execution_count": null,
      "metadata": {
        "id": "1KjKRBMrbx5m"
      },
      "outputs": [],
      "source": [
        "# 8. Model definition\n",
        "class ClinicalBERTClassifier(nn.Module):\n",
        "    def __init__(self, num_labels):\n",
        "        super().__init__()\n",
        "        self.bert = AutoModel.from_pretrained(\"emilyalsentzer/Bio_ClinicalBERT\")\n",
        "        self.dropout = nn.Dropout(0.3)\n",
        "        self.classifier = nn.Linear(768, num_labels)\n",
        "        for name, p in self.bert.named_parameters():\n",
        "            if not (\"encoder.layer.11\" in name or \"pooler\" in name):\n",
        "                p.requires_grad = False\n",
        "\n",
        "    def forward(self, input_ids, attention_mask):\n",
        "        out = self.bert(input_ids=input_ids, attention_mask=attention_mask)\n",
        "        pooled = out.pooler_output\n",
        "        return self.classifier(self.dropout(pooled))\n",
        "\n",
        "model = ClinicalBERTClassifier(num_labels=len(mlb.classes_)).to(device)"
      ]
    },
    {
      "cell_type": "code",
      "execution_count": null,
      "metadata": {
        "colab": {
          "base_uri": "https://localhost:8080/"
        },
        "id": "mfjvCyW8bx2-",
        "outputId": "8539154c-655c-41cf-d553-202fd3585b2b"
      },
      "outputs": [
        {
          "name": "stderr",
          "output_type": "stream",
          "text": [
            "C:\\Users\\ahmad\\AppData\\Local\\Temp\\ipykernel_7756\\3316921300.py:10: FutureWarning: `torch.cuda.amp.GradScaler(args...)` is deprecated. Please use `torch.amp.GradScaler('cuda', args...)` instead.\n",
            "  scaler = GradScaler()\n"
          ]
        }
      ],
      "source": [
        "# 9. Optimizer, loss, scheduler, scaler\n",
        "differential_params = [\n",
        "    {'params': model.classifier.parameters(), 'lr': 1e-3},\n",
        "    {'params': model.bert.pooler.parameters(),  'lr': 5e-4},\n",
        "    {'params': model.bert.encoder.layer[11].parameters(), 'lr': 2e-5},\n",
        "]\n",
        "optimizer = torch.optim.AdamW(differential_params)\n",
        "loss_fn = nn.BCEWithLogitsLoss()\n",
        "scheduler = torch.optim.lr_scheduler.ReduceLROnPlateau(optimizer, 'min', patience=1)\n",
        "scaler = GradScaler()"
      ]
    },
    {
      "cell_type": "code",
      "execution_count": null,
      "metadata": {
        "id": "abpB5sbFj9lf"
      },
      "outputs": [],
      "source": [
        "# # 10. TorchMetrics setup\n",
        "# num_labels = len(mlb.classes_)\n",
        "# metric_args = {'multilabel': True, 'num_labels': num_labels, 'threshold': 0.5, 'compute_on_step': False}"
      ]
    },
    {
      "cell_type": "code",
      "execution_count": null,
      "metadata": {
        "id": "_GMIk5zwkAIn"
      },
      "outputs": [],
      "source": [
        "# 10. TorchMetrics setup\n",
        "num_labels = len(mlb.classes_)\n",
        "\n",
        "train_acc    = torchmetrics.Accuracy(task='multilabel', num_labels=num_labels, threshold=0.3).to(device)\n",
        "train_f1     = torchmetrics.F1Score(task='multilabel', num_labels=num_labels, threshold=0.3).to(device)\n",
        "train_prec   = torchmetrics.Precision(task='multilabel', num_labels=num_labels, threshold=0.3).to(device)\n",
        "train_recall = torchmetrics.Recall(task='multilabel', num_labels=num_labels, threshold=0.3).to(device)\n",
        "train_ham = torchmetrics.HammingDistance(task='multilabel', num_labels=num_labels).to(device)\n",
        "\n",
        "val_acc      = torchmetrics.Accuracy(task='multilabel', num_labels=num_labels, threshold=0.3).to(device)\n",
        "val_f1       = torchmetrics.F1Score(task='multilabel', num_labels=num_labels, threshold=0.3).to(device)\n",
        "val_prec     = torchmetrics.Precision(task='multilabel', num_labels=num_labels, threshold=0.3).to(device)\n",
        "val_recall   = torchmetrics.Recall(task='multilabel', num_labels=num_labels, threshold=0.3).to(device)\n",
        "val_ham   = torchmetrics.HammingDistance(task='multilabel', num_labels=num_labels).to(device)\n"
      ]
    },
    {
      "cell_type": "code",
      "execution_count": null,
      "metadata": {
        "id": "rzgpdZ2kbx0p"
      },
      "outputs": [],
      "source": [
        "# 11. EarlyStopping class\n",
        "class EarlyStopping:\n",
        "    def __init__(self, patience=2, delta=0, path='best_model.pt'):\n",
        "        self.patience = patience\n",
        "        self.delta = delta\n",
        "        self.path = path\n",
        "        self.counter = 0\n",
        "        self.best_score = None\n",
        "        self.best_loss = np.inf\n",
        "        self.early_stop = False\n",
        "\n",
        "    def __call__(self, val_loss, model):\n",
        "        score = -val_loss\n",
        "        if self.best_score is None or score > self.best_score + self.delta:\n",
        "            self.best_score = score\n",
        "            self.best_loss = val_loss\n",
        "            torch.save(model.state_dict(), self.path)\n",
        "            self.counter = 0\n",
        "        else:\n",
        "            self.counter += 1\n",
        "            if self.counter >= self.patience:\n",
        "                self.early_stop = True\n",
        "\n",
        "# early_stopping = EarlyStopping(patience=2, path='best_model.pt')"
      ]
    },
    {
      "cell_type": "code",
      "execution_count": null,
      "metadata": {
        "id": "hz7Hejmobxxl"
      },
      "outputs": [],
      "source": [
        "# 12. Train & Eval functions\n",
        "def train_epoch():\n",
        "    model.train()\n",
        "    train_acc.reset(); train_f1.reset()\n",
        "    train_prec.reset(); train_recall.reset(); train_ham.reset()\n",
        "    total_loss = 0.0\n",
        "\n",
        "    for batch in tqdm(train_loader, desc=\"Training\"):\n",
        "        ids    = batch['input_ids'].to(device)\n",
        "        mask   = batch['attention_mask'].to(device)\n",
        "        labels = batch['labels'].to(device)\n",
        "\n",
        "        optimizer.zero_grad()\n",
        "        with autocast():\n",
        "            logits = model(ids, mask)\n",
        "            loss   = loss_fn(logits, labels)\n",
        "        scaler.scale(loss).backward()\n",
        "        scaler.step(optimizer)\n",
        "        scaler.update()\n",
        "        total_loss += loss.item()\n",
        "\n",
        "        preds = torch.sigmoid(logits)\n",
        "        train_acc.update(preds, labels)\n",
        "        train_f1.update(preds, labels)\n",
        "        train_prec.update(preds, labels)\n",
        "        train_recall.update(preds, labels)\n",
        "        train_ham.update(preds, labels)\n",
        "\n",
        "    return {\n",
        "        'loss': total_loss / len(train_loader),\n",
        "        'acc': train_acc.compute().item(),\n",
        "        'f1': train_f1.compute().item(),\n",
        "        'precision': train_prec.compute().item(),\n",
        "        'recall': train_recall.compute().item(),\n",
        "        'hamming_loss': train_ham.compute().item() / (batch_size * num_labels)\n",
        "    }\n",
        "\n",
        "\n",
        "def eval_epoch():\n",
        "    model.eval()\n",
        "    val_acc.reset(); val_f1.reset()\n",
        "    val_prec.reset(); val_recall.reset(); val_ham.reset()\n",
        "    total_loss = 0.0\n",
        "\n",
        "    with torch.no_grad():\n",
        "        for batch in tqdm(val_loader, desc=\"Validating\"):\n",
        "            ids    = batch['input_ids'].to(device)\n",
        "            mask   = batch['attention_mask'].to(device)\n",
        "            labels = batch['labels'].to(device)\n",
        "\n",
        "            with autocast():\n",
        "                logits = model(ids, mask)\n",
        "                loss   = loss_fn(logits, labels)\n",
        "            total_loss += loss.item()\n",
        "\n",
        "            preds = torch.sigmoid(logits)\n",
        "            val_acc.update(preds, labels)\n",
        "            val_f1.update(preds, labels)\n",
        "            val_prec.update(preds, labels)\n",
        "            val_recall.update(preds, labels)\n",
        "            val_ham.update(preds, labels)\n",
        "\n",
        "    return {\n",
        "        'loss': total_loss / len(val_loader),\n",
        "        'acc': val_acc.compute().item(),\n",
        "        'f1': val_f1.compute().item(),\n",
        "        'precision': val_prec.compute().item(),\n",
        "        'recall': val_recall.compute().item(),\n",
        "        'hamming_loss': val_ham.compute().item() / (batch_size * num_labels)\n",
        "    }"
      ]
    },
    {
      "cell_type": "code",
      "execution_count": null,
      "metadata": {
        "colab": {
          "base_uri": "https://localhost:8080/",
          "height": 503,
          "referenced_widgets": [
            "11f4d3c8567d4c1a9e2f948a4168e8b3",
            "6c3554c12c36440eb4945547545e8dbb",
            "35bf53528e6944b1bca0f3201ae9684e",
            "a68f9f339a7c4200adac2e4443a79fa5",
            "a207292eba4f48288beda072909db868",
            "00f810a6d9144b9db4ab44c80fce812f",
            "53fa188369984bd5887384abc4b11e8d",
            "bd51f4d3eac6413686bae5dd1a3f80a1",
            "85a21423bfab444dbfda2b0845c8c66a",
            "b6f169bbb0cc46bdbfe72ae2cfea1fa7",
            "7732c7e279b241adbc861f1b84e8da96"
          ]
        },
        "id": "pi1caCGEb_fq",
        "outputId": "9c86fc9a-7dd8-4adf-d3f4-f5e0f56f1577"
      },
      "outputs": [
        {
          "name": "stdout",
          "output_type": "stream",
          "text": [
            "\n",
            "Epoch 1/15\n"
          ]
        },
        {
          "name": "stderr",
          "output_type": "stream",
          "text": [
            "Training:   0%|          | 0/2813 [00:00<?, ?it/s]C:\\Users\\ahmad\\AppData\\Local\\Temp\\ipykernel_7756\\1835299561.py:14: FutureWarning: `torch.cuda.amp.autocast(args...)` is deprecated. Please use `torch.amp.autocast('cuda', args...)` instead.\n",
            "  with autocast():\n",
            "Training: 100%|██████████| 2813/2813 [10:36<00:00,  4.42it/s]\n",
            "Validating:   0%|          | 0/313 [00:00<?, ?it/s]C:\\Users\\ahmad\\AppData\\Local\\Temp\\ipykernel_7756\\1835299561.py:51: FutureWarning: `torch.cuda.amp.autocast(args...)` is deprecated. Please use `torch.amp.autocast('cuda', args...)` instead.\n",
            "  with autocast():\n",
            "Validating: 100%|██████████| 313/313 [00:52<00:00,  5.98it/s]\n"
          ]
        },
        {
          "name": "stdout",
          "output_type": "stream",
          "text": [
            "Train — loss: 0.0070, acc: 0.9977, f1: 0.0813, ham: 0.0000\n",
            "Val   — loss: 0.0055, acc: 0.9987, f1: 0.1755, ham: 0.0000\n",
            "\n",
            "Epoch 2/15\n"
          ]
        },
        {
          "name": "stderr",
          "output_type": "stream",
          "text": [
            "Training: 100%|██████████| 2813/2813 [08:56<00:00,  5.24it/s]\n",
            "Validating: 100%|██████████| 313/313 [00:51<00:00,  6.09it/s]\n"
          ]
        },
        {
          "name": "stdout",
          "output_type": "stream",
          "text": [
            "Train — loss: 0.0055, acc: 0.9987, f1: 0.1916, ham: 0.0000\n",
            "Val   — loss: 0.0053, acc: 0.9987, f1: 0.2182, ham: 0.0000\n",
            "\n",
            "Epoch 3/15\n"
          ]
        },
        {
          "name": "stderr",
          "output_type": "stream",
          "text": [
            "Training: 100%|██████████| 2813/2813 [09:07<00:00,  5.14it/s]\n",
            "Validating: 100%|██████████| 313/313 [00:53<00:00,  5.90it/s]\n"
          ]
        },
        {
          "name": "stdout",
          "output_type": "stream",
          "text": [
            "Train — loss: 0.0053, acc: 0.9987, f1: 0.2150, ham: 0.0000\n",
            "Val   — loss: 0.0052, acc: 0.9988, f1: 0.2165, ham: 0.0000\n",
            "\n",
            "Epoch 4/15\n"
          ]
        },
        {
          "name": "stderr",
          "output_type": "stream",
          "text": [
            "Training: 100%|██████████| 2813/2813 [09:24<00:00,  4.98it/s]\n",
            "Validating: 100%|██████████| 313/313 [00:53<00:00,  5.80it/s]\n"
          ]
        },
        {
          "name": "stdout",
          "output_type": "stream",
          "text": [
            "Train — loss: 0.0052, acc: 0.9987, f1: 0.2279, ham: 0.0000\n",
            "Val   — loss: 0.0051, acc: 0.9987, f1: 0.2419, ham: 0.0000\n",
            "\n",
            "Epoch 5/15\n"
          ]
        },
        {
          "name": "stderr",
          "output_type": "stream",
          "text": [
            "Training: 100%|██████████| 2813/2813 [09:23<00:00,  4.99it/s]\n",
            "Validating: 100%|██████████| 313/313 [00:54<00:00,  5.75it/s]\n"
          ]
        },
        {
          "name": "stdout",
          "output_type": "stream",
          "text": [
            "Train — loss: 0.0051, acc: 0.9987, f1: 0.2365, ham: 0.0000\n",
            "Val   — loss: 0.0051, acc: 0.9987, f1: 0.2567, ham: 0.0000\n",
            "\n",
            "Epoch 6/15\n"
          ]
        },
        {
          "name": "stderr",
          "output_type": "stream",
          "text": [
            "Training: 100%|██████████| 2813/2813 [08:31<00:00,  5.50it/s]\n",
            "Validating: 100%|██████████| 313/313 [00:40<00:00,  7.74it/s]\n"
          ]
        },
        {
          "name": "stdout",
          "output_type": "stream",
          "text": [
            "Train — loss: 0.0050, acc: 0.9987, f1: 0.2437, ham: 0.0000\n",
            "Val   — loss: 0.0051, acc: 0.9987, f1: 0.2664, ham: 0.0000\n",
            "\n",
            "Epoch 7/15\n"
          ]
        },
        {
          "name": "stderr",
          "output_type": "stream",
          "text": [
            "Training: 100%|██████████| 2813/2813 [06:50<00:00,  6.85it/s]\n",
            "Validating: 100%|██████████| 313/313 [00:40<00:00,  7.72it/s]\n"
          ]
        },
        {
          "name": "stdout",
          "output_type": "stream",
          "text": [
            "Train — loss: 0.0049, acc: 0.9987, f1: 0.2501, ham: 0.0000\n",
            "Val   — loss: 0.0051, acc: 0.9988, f1: 0.2428, ham: 0.0000\n",
            "\n",
            "Epoch 8/15\n"
          ]
        },
        {
          "name": "stderr",
          "output_type": "stream",
          "text": [
            "Training: 100%|██████████| 2813/2813 [06:50<00:00,  6.85it/s]\n",
            "Validating: 100%|██████████| 313/313 [00:40<00:00,  7.77it/s]\n"
          ]
        },
        {
          "name": "stdout",
          "output_type": "stream",
          "text": [
            "Train — loss: 0.0049, acc: 0.9987, f1: 0.2549, ham: 0.0000\n",
            "Val   — loss: 0.0051, acc: 0.9987, f1: 0.2674, ham: 0.0000\n",
            "\n",
            "Epoch 9/15\n"
          ]
        },
        {
          "name": "stderr",
          "output_type": "stream",
          "text": [
            "Training: 100%|██████████| 2813/2813 [06:51<00:00,  6.84it/s]\n",
            "Validating: 100%|██████████| 313/313 [00:39<00:00,  7.84it/s]\n"
          ]
        },
        {
          "name": "stdout",
          "output_type": "stream",
          "text": [
            "Train — loss: 0.0046, acc: 0.9988, f1: 0.2790, ham: 0.0000\n",
            "Val   — loss: 0.0050, acc: 0.9987, f1: 0.2797, ham: 0.0000\n",
            "\n",
            "Epoch 10/15\n"
          ]
        },
        {
          "name": "stderr",
          "output_type": "stream",
          "text": [
            "Training: 100%|██████████| 2813/2813 [06:50<00:00,  6.86it/s]\n",
            "Validating: 100%|██████████| 313/313 [00:40<00:00,  7.76it/s]\n"
          ]
        },
        {
          "name": "stdout",
          "output_type": "stream",
          "text": [
            "Train — loss: 0.0045, acc: 0.9988, f1: 0.2878, ham: 0.0000\n",
            "Val   — loss: 0.0050, acc: 0.9987, f1: 0.2794, ham: 0.0000\n",
            "\n",
            "Epoch 11/15\n"
          ]
        },
        {
          "name": "stderr",
          "output_type": "stream",
          "text": [
            "Training: 100%|██████████| 2813/2813 [06:51<00:00,  6.84it/s]\n",
            "Validating: 100%|██████████| 313/313 [00:40<00:00,  7.72it/s]\n"
          ]
        },
        {
          "name": "stdout",
          "output_type": "stream",
          "text": [
            "Train — loss: 0.0045, acc: 0.9988, f1: 0.2916, ham: 0.0000\n",
            "Val   — loss: 0.0050, acc: 0.9987, f1: 0.2828, ham: 0.0000\n",
            "\n",
            "Epoch 12/15\n"
          ]
        },
        {
          "name": "stderr",
          "output_type": "stream",
          "text": [
            "Training: 100%|██████████| 2813/2813 [06:50<00:00,  6.86it/s]\n",
            "Validating: 100%|██████████| 313/313 [00:39<00:00,  7.84it/s]\n"
          ]
        },
        {
          "name": "stdout",
          "output_type": "stream",
          "text": [
            "Train — loss: 0.0044, acc: 0.9988, f1: 0.2959, ham: 0.0000\n",
            "Val   — loss: 0.0050, acc: 0.9987, f1: 0.2811, ham: 0.0000\n",
            "\n",
            "Epoch 13/15\n"
          ]
        },
        {
          "name": "stderr",
          "output_type": "stream",
          "text": [
            "Training: 100%|██████████| 2813/2813 [06:50<00:00,  6.85it/s]\n",
            "Validating: 100%|██████████| 313/313 [00:40<00:00,  7.79it/s]\n"
          ]
        },
        {
          "name": "stdout",
          "output_type": "stream",
          "text": [
            "Train — loss: 0.0044, acc: 0.9988, f1: 0.2971, ham: 0.0000\n",
            "Val   — loss: 0.0050, acc: 0.9987, f1: 0.2815, ham: 0.0000\n",
            "\n",
            "Epoch 14/15\n"
          ]
        },
        {
          "name": "stderr",
          "output_type": "stream",
          "text": [
            "Training: 100%|██████████| 2813/2813 [06:49<00:00,  6.86it/s]\n",
            "Validating: 100%|██████████| 313/313 [00:40<00:00,  7.75it/s]\n"
          ]
        },
        {
          "name": "stdout",
          "output_type": "stream",
          "text": [
            "Train — loss: 0.0044, acc: 0.9988, f1: 0.2968, ham: 0.0000\n",
            "Val   — loss: 0.0050, acc: 0.9987, f1: 0.2823, ham: 0.0000\n",
            "\n",
            "Epoch 15/15\n"
          ]
        },
        {
          "name": "stderr",
          "output_type": "stream",
          "text": [
            "Training: 100%|██████████| 2813/2813 [06:49<00:00,  6.86it/s]\n",
            "Validating: 100%|██████████| 313/313 [00:40<00:00,  7.65it/s]"
          ]
        },
        {
          "name": "stdout",
          "output_type": "stream",
          "text": [
            "Train — loss: 0.0044, acc: 0.9988, f1: 0.2981, ham: 0.0000\n",
            "Val   — loss: 0.0050, acc: 0.9987, f1: 0.2824, ham: 0.0000\n"
          ]
        },
        {
          "name": "stderr",
          "output_type": "stream",
          "text": [
            "\n"
          ]
        }
      ],
      "source": [
        "# 13. Training loop\n",
        "epochs = 15\n",
        "for epoch in range(1, epochs+1):\n",
        "    print(f\"\\nEpoch {epoch}/{epochs}\")\n",
        "    train_metrics = train_epoch()\n",
        "    val_metrics   = eval_epoch()\n",
        "    scheduler.step(val_metrics['loss'])\n",
        "\n",
        "    print(f\"Train — loss: {train_metrics['loss']:.4f}, acc: {train_metrics['acc']:.4f}, f1: {train_metrics['f1']:.4f}, ham: {train_metrics['hamming_loss']:.4f}\")\n",
        "    print(f\"Val   — loss: {val_metrics['loss']:.4f}, acc: {val_metrics['acc']:.4f}, f1: {val_metrics['f1']:.4f}, ham: {val_metrics['hamming_loss']:.4f}\")\n",
        "\n",
        "    # early_stopping(val_metrics['loss'], model)\n",
        "    # if early_stopping.early_stop:\n",
        "    #     print(\"Early stopping triggered.\")\n",
        "    #     break\n"
      ]
    },
    {
      "cell_type": "code",
      "execution_count": null,
      "metadata": {
        "id": "UygqY3awvVBm"
      },
      "outputs": [],
      "source": [
        "torch.save(model.state_dict(), 'best_model.pt')\n"
      ]
    },
    {
      "cell_type": "code",
      "execution_count": null,
      "metadata": {
        "id": "PiKMw37Pb_dk",
        "outputId": "0d248f89-ac11-4162-d7c6-29dae56ca756"
      },
      "outputs": [
        {
          "data": {
            "text/plain": [
              "<All keys matched successfully>"
            ]
          },
          "execution_count": 31,
          "metadata": {},
          "output_type": "execute_result"
        }
      ],
      "source": [
        "# 14. Load best model\n",
        "model.load_state_dict(torch.load('best_model.pt'))"
      ]
    },
    {
      "cell_type": "code",
      "execution_count": null,
      "metadata": {
        "id": "lVyXwQCLb_bK"
      },
      "outputs": [],
      "source": [
        "# 15. Inference function\n",
        "def predict(text, top_k=5, threshold=0.5):\n",
        "    model.eval()\n",
        "    enc = tokenizer(\n",
        "        text,\n",
        "        truncation=True,\n",
        "        padding='max_length',\n",
        "        max_length=128,\n",
        "        return_tensors='pt'\n",
        "    )\n",
        "    ids, mask = enc['input_ids'].to(device), enc['attention_mask'].to(device)\n",
        "    with torch.no_grad(), autocast():\n",
        "        logits = model(ids, mask)\n",
        "    probs = torch.sigmoid(logits).cpu().numpy()[0]\n",
        "    above = [mlb.classes_[i] for i in np.where(probs>=threshold)[0]]\n",
        "    topk  = [mlb.classes_[i] for i in probs.argsort()[-top_k:][::-1]]\n",
        "    return {'above_threshold': above, 'top_k': topk}\n"
      ]
    },
    {
      "cell_type": "code",
      "execution_count": null,
      "metadata": {
        "id": "ikNmZUNRb_Yt",
        "outputId": "1b55ddd3-fc78-4815-f041-45408841815e"
      },
      "outputs": [
        {
          "name": "stdout",
          "output_type": "stream",
          "text": [
            "{'above_threshold': ['E785', 'I10'], 'top_k': ['E785', 'I10', 'Z85850', 'E039', 'Z87891']}\n"
          ]
        },
        {
          "name": "stderr",
          "output_type": "stream",
          "text": [
            "C:\\Users\\ahmad\\AppData\\Local\\Temp\\ipykernel_7756\\2150731214.py:12: FutureWarning: `torch.cuda.amp.autocast(args...)` is deprecated. Please use `torch.amp.autocast('cuda', args...)` instead.\n",
            "  with torch.no_grad(), autocast():\n"
          ]
        }
      ],
      "source": [
        "# Example inference\n",
        "sample = \"Allergies: shellfish derived Chief Complaint: Right-sided weakness Major Surgical or Invasive Procedure: Lumbar puncture History of Present Illness: Mr. [MASKED] is a [MASKED] man with a past medical history of thyroid cancer status post resection followed by [MASKED], hyperlipidemia who presents with 10 days of discrete episodes of headache, lightheadedness, and focal neurologic deficits. History is obtained by wife at the bedside as patient not able to participate. On [MASKED], wife notes that patient had sudden onset massive headache with associated lightheadedness and tunnel vision. He also experienced numbness in his right arm. There was no vertigo. It is unclear how long this episode lasted but patient went to bed and slept for approximately 15 hours. On awakening the following day, patient felt back to baseline. He called his primary care physician and went in for evaluation that day. His PCP performed [MASKED] lightheadedness workup and found no neurologic deficits. He felt his symptoms were most likely secondary to migraine headache. Two days later, on [MASKED], patient sent wife incoherent text message via phone. She called him afterward and he had difficulty getting the words out when speaking with her. The wife took patient to [MASKED] where he had a noncontrast [MASKED] CT which was unremarkable. He would that he was diagnosed with migraine and sent home. The whole episode lasted approximately 1 hour. Patient and his wife followed up with a neurologist through [MASKED] the following day and he had an MRI brain without contrast/MRA [MASKED] and neck as an outpatient. Imaging was unremarkable. There are no notes to review from this encounter, but the wife reports the neurologist agreed the etiology of his symptoms was most likely migraine. The following day, patient complained of headache which felt like a headband putting pressure on his whole [MASKED], right worse than left side. The wife began to document his symptoms and she notes: 12 [MASKED] lightheadedness and vision issues 12:15 [MASKED] went to bed and slept until 2 [MASKED] 2:05 [MASKED] woke up with a raging headache behind eyes and photophobia. She documents an exaggerated startle, jumping every time she walks by her opens a soda can. He went to sleep shortly afterward and awoke 4 hours later. 6:15 [MASKED] awoke with continued lightheadedness and headache 9 [MASKED] out of bed, feeling better He slept until 8:30 AM. He was asymptomatic the following day. Today at 7 [MASKED] he experienced sudden onset right hand numbness which traveled to his right arm and leg. He also had twitching of his right face and clenched his right eye in pain. He also had difficulty speaking, getting any words out. EMS was called and he was brought to [MASKED] where code stroke was called. Noncontrast [MASKED] CT was negative for bleed or other intracranial abnormality. Shortly after arrival to the ED his symptoms resolved and TPA was deferred. He began to complain of a headache at this time. He was transferred to [MASKED] for further management. Neurology was consulted for question of seizures versus atypical migraine. Unable to complete review of systems, though positive neurologic review of systems are noted as above. Specifically, patient's wife denies a history of headache or migraines. She denies any recent fever or chills. Past Medical History: Thyroid cancer status post resection. No chemo or radiation. Diagnosed in [MASKED], managed at [MASKED]. On maintenance levothyroxine. Hyperlipidemia Social History: [MASKED] Family History: No family history of stroke, seizure, or migraine. Physical Exam: ============== ADMISSION EXAM ============== Vitals: Tm: 102.5 P: 40-70 r: 16 BP: 136/90 SaO2: 99 on room air Blood glucose 89 General: Agitated, thrashing in bed, pulling off telemetry leads, and trying to get out of bed, holding [MASKED] periodically and moaning HEENT: NC/AT, positive photophobia, no scleral icterus noted, MMM, no lesions noted in oropharynx, incessant yawning Neck: Supple, No nuchal rigidity Pulmonary: Normal work of breathing Cardiac: Bradycardic, regular rhythm, warm, well-perfused Abdomen: soft, non-distended Extremities: No [MASKED] edema. He repeatedly lifts his left arm above his [MASKED] and then yawns and almost stereotyped fashion multiple times throughout the examination. Skin: no rashes or lesions noted. Neurologic: -Mental Status: Agitated, moving back and forth in bed, appears uncomfortable, grimacing and moaning. Will attend to examiner briefly when shouting his name but then turns away and repositions himself. Does not track. When asked his name, he replies okay. He perseverates on I am sorry. He attempts to answer the question, but there is never a straight response. At times, he repeats what? over and over. He then appears to get agitated and says leave me alone. Other spontaneous speech includes oh God. It is difficult to say if he follows any commands. His speech does not sound dysarthric. He is unable to participate in any further language testing. -Cranial Nerves: He is severely photophobic so pupil examination is limited. Overall pupils appear symmetric and reactive. He moves eyes in both horizontal directions. He has bilateral blink to threat. Unable to visualize fundi bilaterally. No facial droop, facial musculature symmetric. Palate elevates symmetrically. Tongue protrudes in midline. -Motor: Normal bulk, tone throughout. No adventitious movements, such as tremor, noted. Arms and legs are antigravity and appear strong, though formal confrontational testing is not possible. -Sensory: He withdraws to noxious stimuli in all 4 extremities. -DTRs: Bi Tri [MASKED] Pat Ach L 2 2 2 2 2 R 2 2 2 2 2 Plantar response was flexor bilaterally. -Coordination: Grabs for his IV with his left hand and pulls off telemetry leads with his right hand. -Gait: Able to bring himself to a standing position unassisted. DISCHARGE EXAM: Nonfocal Pertinent Results: ==== LABS ==== - CBC [MASKED] 10:00PM BLOOD WBC-6.7 RBC-4.63 Hgb-14.0 Hct-42.4 MCV-92 MCH-30.2 MCHC-33.0 RDW-12.6 RDWSD-42.2 Plt [MASKED] [MASKED] 10:00PM BLOOD Neuts-57.0 [MASKED] Monos-8.8 Eos-2.1 Baso-0.3 Im [MASKED] AbsNeut-3.83 AbsLymp-2.13 AbsMono-0.59 AbsEos-0.14 AbsBaso-0.02 [MASKED] 05:59AM BLOOD WBC-7.8 RBC-4.43* Hgb-13.3* Hct-40.4 MCV-91 MCH-30.0 MCHC-32.9 RDW-12.4 RDWSD-41.8 Plt [MASKED] [MASKED] 05:25AM BLOOD WBC-4.8 RBC-4.46* Hgb-13.6* Hct-41.8 MCV-94 MCH-30.5 MCHC-32.5 RDW-12.7 RDWSD-43.9 Plt [MASKED] [MASKED] 05:25AM BLOOD Neuts-53.2 [MASKED] Monos-10.9 Eos-2.7 Baso-0.4 Im [MASKED] AbsNeut-2.52 AbsLymp-1.55 AbsMono-0.52 AbsEos-0.13 AbsBaso-0.02 - Coag [MASKED] 10:23PM BLOOD [MASKED] PTT-27.2 [MASKED] [MASKED] 05:59AM BLOOD [MASKED] PTT-26.5 [MASKED] - CMP [MASKED] 10:00PM BLOOD Glucose-98 UreaN-19 Creat-1.2 Na-140 K-3.7 Cl-100 HCO3-28 AnGap-16 [MASKED] 10:00PM BLOOD ALT-15 AST-16 CK(CPK)-56 AlkPhos-25* TotBili-0.2 [MASKED] 05:59AM BLOOD Glucose-126* UreaN-17 Creat-1.1 Na-139 K-3.9 Cl-103 HCO3-22 AnGap-18 [MASKED] 05:25AM BLOOD ALT-13 AST-17 AlkPhos-22* TotBili-0.3 [MASKED] 05:25AM BLOOD Glucose-125* UreaN-9 Creat-1.0 Na-141 K-4.2 Cl-103 HCO3-29 AnGap-13 [MASKED] 10:00PM BLOOD Albumin-4.3 Calcium-9.1 Phos-3.8 Mg-2.0 [MASKED] 05:59AM BLOOD Calcium-8.6 Phos-3.2 Mg-1.8 [MASKED] 05:25AM BLOOD Calcium-8.6 Phos-3.8 Mg-2.1 - Other [MASKED] 10:00PM BLOOD cTropnT-<0.01 [MASKED] 05:59AM BLOOD TSH-0.37 [MASKED] 10:00PM BLOOD ASA-NEG Ethanol-NEG Acetmnp-NEG Bnzodzp-NEG Barbitr-NEG Tricycl-NEG [MASKED] 10:14PM BLOOD Lactate-1.0 - Urine [MASKED] 02:47AM URINE Blood-TR Nitrite-NEG Protein-TR Glucose-NEG Ketone-10 Bilirub-NEG Urobiln-NEG pH-6.5 Leuks-NEG [MASKED] 02:47AM URINE Color-Straw Appear-Clear Sp [MASKED] [MASKED] 02:47AM URINE RBC-3* WBC-1 Bacteri-NONE Yeast-NONE Epi-0 [MASKED] 02:47AM URINE bnzodzp-NEG barbitr-NEG opiates-NEG cocaine-NEG amphetm-NEG oxycodn-NEG mthdone-NEG - CSF [MASKED] 12:43AM CEREBROSPINAL FLUID (CSF) WBC-270 RBC-0 Polys-0 [MASKED] [MASKED] 12:43AM CEREBROSPINAL FLUID (CSF) WBC-244 RBC-0 Polys-0 [MASKED] Monos-4 Other-2 [MASKED] 12:43AM CEREBROSPINAL FLUID (CSF) TotProt-211* Glucose-63 [MASKED] 01:00PM CEREBROSPINAL FLUID (CSF) WBC-230 RBC-1* Polys-0 [MASKED] Monos-3 Other-3 [MASKED] 09:42AM CEREBROSPINAL FLUID (CSF) TotProt-212* Glucose-58 LD(LDH)-23 [MASKED] 09:42AM CEREBROSPINAL FLUID (CSF) HIV1 VL-NOT DETECT - Micro [MASKED] CSF;SPINAL FLUID GRAM STAIN-FINAL; FLUID CULTURE-PRELIMINARY GRAM STAIN (Final [MASKED]: NO POLYMORPHONUCLEAR LEUKOCYTES SEEN. NO MICROORGANISMS SEEN. This is a concentrated smear made by cytospin method, please refer to hematology for a quantitative white blood cell count.. FLUID CULTURE (Preliminary): [MASKED] CSF;SPINAL FLUID GRAM STAIN-FINAL; FLUID CULTURE-PRELIMINARY GRAM STAIN (Final [MASKED]: NO POLYMORPHONUCLEAR LEUKOCYTES SEEN. NO MICROORGANISMS SEEN. This is a concentrated smear made by cytospin method, please refer to hematology for a quantitative white blood cell count. FLUID CULTURE (Preliminary): [MASKED] CSF VDRL, VZV, CMV, EBB, Autoimmune Encephalopathy Panel, Paraneoplastic Panel, Enterovirus pending [MASKED] Blood (LYME) Lyme IgG-PENDING; Lyme IgM-PENDING [MASKED] BLOOD CULTURE Blood Culture, Routine-PENDING [MASKED] BLOOD CULTURE Blood Culture, Routine-PENDING [MASKED] URINE URINE CULTURE-PENDING [MASKED] 12:43AM CEREBROSPINAL FLUID (CSF) HERPES SIMPLEX VIRUS PCR-negative [MASKED] 05:10AM BLOOD WBC-5.6 RBC-4.46* Hgb-13.4* Hct-41.5 MCV-93 MCH-30.0 MCHC-32.3 RDW-12.7 RDWSD-43.0 Plt [MASKED] [MASKED] 05:10AM BLOOD [MASKED] PTT-25.8 [MASKED] [MASKED] 05:10AM BLOOD Glucose-94 UreaN-11 Creat-1.0 Na-140 K-3.8 Cl-100 HCO3-26 AnGap-18 [MASKED] 05:25AM BLOOD ALT-13 AST-17 AlkPhos-22* TotBili-0.3 [MASKED] 05:10AM BLOOD Calcium-8.8 Phos-4.7* Mg-2.0 [MASKED] 05:59AM BLOOD TSH-0.37 [MASKED] 05:10AM BLOOD HIV Ab-Negative ========= PATHOLOGY ========= [MASKED] CSF Cytology-negative for malignant cells [MASKED]- CSF Cytology pending ======= IMAGING ======= - [MASKED] MR [MASKED] CONTRAST 1. Study is moderately degraded by motion. 2. No evidence of venous sinus thrombosis. 3. Within limits of study, no definite leptomeningeal enhancement identified. 4. New nonspecific diffuse subarachnoid signal abnormality, as described. While finding is compatible with meningitis, differential considerations include subarachnoid hemorrhage, leptomeningeal carcinomatosis, sequelae of hyperoxygenation therapy or artifact. If clinically indicated, noncontrast [MASKED] CT may be obtained to evaluate for presence of new subarachnoid hemorrhage since [MASKED] noncontrast [MASKED] CT prior exam. 5. Paranasal sinus disease as described. - [MASKED] EEG This is an abnormal continuous ICU monitoring study because of continuous slowing on the left, maximal temporally, indicative of focal dysfunction. No pushbutton activations, epileptiform discharges, or seizures are recorded. Compared to the prior day's recording, there are no significant changes. Of note, sinus bradycardia to the [MASKED] is seen during portions of the record. Brief Hospital Course: Mr. [MASKED] is a [MASKED] year old man with history of thyroid cancer (s/p resection in [MASKED] and hyperlipidemia who presented with a ten day course of episodic headaches, lightheadedness and focal neurological deficits (extremity numbness, aphasia). He was found to have CSF pleomorphic lymphocytosis, and nonspecific diffuse subarachnoid signal abnormality on MRI. He was given a provisional diagnosis of HaNDL syndrome, pending additional tests and CSF studies, and was discharged on Verapamil 120mg for prophylactic headache treatment. He will follow-up with outpatient neurologist. #Neuro On presentation at [MASKED], the patient was acutely agitated and confused, with a low grade fever and sinus bradycardia. He had a severe headache, multiple neurological deficits and exhibited stereotyped movements. [MASKED] at outside hospital revealed no acute intracranial process. Patient was admitted to the ICU for EEG and neurological monitoring, out of concern for meningoencephalitis vs seizure vs neoplastic process. LP ([MASKED]) revealed elevated opening pressure, lymphocytic pleiocytosis, elevated protein level, and no malignant cells. The patient was initially maintained on droplet precautions, and treated empirically for meningitis with ceftriaxone, vancomycin and acyclovir until HSV PCR was negative and CSF cultures showed no bacterial growth. His symptoms had largely resolved the morning after admission and he was subsequently transferred to the floor. His symptoms did not reoccur throughout the rest of his hospital stay. EEG showed continuous slowing on the left, maximal temporally, indicative of focal dysfunction, with no epileptiform discharges. MRI revealed new nonspecific diffuse subarachnoid FLAIR hyperintensities, but no evidence of venous sinus thrombosis or definite leptomeningeal enhancement. An additional [MASKED] LP was obtained on [MASKED] for further CSF studies, with results showing continued lymphocytic pleocytosis w/ elevated protein level but improved from previous tap. At the time of discharge, the patient most closely fit the criteria for syndrome of transient Headache and Neurological Deficits with cerebrospinal fluid Lymphocytosis (HaNDL). However, HaNDL remains a provisional diagnosis until all pending results are back and other etiologies are excluded. If HaNDL is deemed to be the final diagnosis, it should be noted that it is usually a self-limiting disease and only prophylactic therapy for associated headaches is recommended. The patient was thus started on verapamil 120mg for symptomatic improvement and headache prophylaxis. #Cardiovascular CXR showed no acute cardiopulmonary process. The patient was monitored on telemetry with no evidence of atrial fibrillation. Atorvastatin 40mg daily was continued per home regimen. Transition Issues: -Pt will need to continue taking Verapamil SR 120mg daily in the near future as prophylactic therapy for migrainous headaches -Pt will need to follow up with Neurology as scheduled -Pt instructed to present to ED for evaluation if develops recurrent neurologic deficits -Pt to be informed if abnormal CSF studies present Medications on Admission: The Preadmission Medication list is accurate and complete. 1. Levothyroxine Sodium 150 mcg PO DAILY 2. Atorvastatin 40 mg PO QPM 3. ValACYclovir 2 g PO BID:PRN Cold sore Discharge Medications: 1. Verapamil SR 120 mg PO Q24H RX *verapamil 120 mg 1 tablet(s) by mouth Daily Disp #*30 Tablet Refills:*2 2. Atorvastatin 40 mg PO QPM 3. Levothyroxine Sodium 150 mcg PO DAILY 4. ValACYclovir 2 g PO BID:PRN Cold sore Discharge Disposition: Home Discharge Diagnosis: Migraine w/ focal neurologic deficits and lymphocytic pleocytosis Discharge Condition: Mental Status: Clear and coherent. Level of Consciousness: Alert and interactive. Activity Status: Ambulatory - Independent. Discharge Instructions: Dear Mr. [MASKED], You were hospitalized at [MASKED] due to recurrent migraines associated w/ focal neurologic deficits. You were initially in the NeuroICU and later transferred to the general floor. You underwent extensive laboratory workup indicative of inflammation in your cerebrospinal fluid. You were empirically treated with antibiotics and antiviral agents which were stopped when subsequent cultures were negative. You underwent EEG which showed no sign of seizure activity. Due to appearing clinically stable on exam and w/ no recurrent symptoms, you will be discharged from the hospital. Please continue taking Verapamil SR 120mg daily at this time. Please continue your other home medications. Please follow up with your PCP and [MASKED] as listed below. If you find yourself having acute focal neurologic deficits in the future, please go to your nearest ED for evaluation. It was a pleasure taking care of you, [MASKED] Neurology Team Followup Instructions: [MASKED]\"\n",
        "print(predict(sample))\n",
        "\n",
        "\n"
      ]
    }
  ],
  "metadata": {
    "accelerator": "GPU",
    "colab": {
      "gpuType": "T4",
      "provenance": []
    },
    "kernelspec": {
      "display_name": "Python 3",
      "name": "python3"
    },
    "language_info": {
      "codemirror_mode": {
        "name": "ipython",
        "version": 3
      },
      "file_extension": ".py",
      "mimetype": "text/x-python",
      "name": "python",
      "nbconvert_exporter": "python",
      "pygments_lexer": "ipython3",
      "version": "3.13.2"
    },
    "widgets": {
      "application/vnd.jupyter.widget-state+json": {
        "00f810a6d9144b9db4ab44c80fce812f": {
          "model_module": "@jupyter-widgets/base",
          "model_module_version": "1.2.0",
          "model_name": "LayoutModel",
          "state": {
            "_model_module": "@jupyter-widgets/base",
            "_model_module_version": "1.2.0",
            "_model_name": "LayoutModel",
            "_view_count": null,
            "_view_module": "@jupyter-widgets/base",
            "_view_module_version": "1.2.0",
            "_view_name": "LayoutView",
            "align_content": null,
            "align_items": null,
            "align_self": null,
            "border": null,
            "bottom": null,
            "display": null,
            "flex": null,
            "flex_flow": null,
            "grid_area": null,
            "grid_auto_columns": null,
            "grid_auto_flow": null,
            "grid_auto_rows": null,
            "grid_column": null,
            "grid_gap": null,
            "grid_row": null,
            "grid_template_areas": null,
            "grid_template_columns": null,
            "grid_template_rows": null,
            "height": null,
            "justify_content": null,
            "justify_items": null,
            "left": null,
            "margin": null,
            "max_height": null,
            "max_width": null,
            "min_height": null,
            "min_width": null,
            "object_fit": null,
            "object_position": null,
            "order": null,
            "overflow": null,
            "overflow_x": null,
            "overflow_y": null,
            "padding": null,
            "right": null,
            "top": null,
            "visibility": null,
            "width": null
          }
        },
        "11f4d3c8567d4c1a9e2f948a4168e8b3": {
          "model_module": "@jupyter-widgets/controls",
          "model_module_version": "1.5.0",
          "model_name": "HBoxModel",
          "state": {
            "_dom_classes": [],
            "_model_module": "@jupyter-widgets/controls",
            "_model_module_version": "1.5.0",
            "_model_name": "HBoxModel",
            "_view_count": null,
            "_view_module": "@jupyter-widgets/controls",
            "_view_module_version": "1.5.0",
            "_view_name": "HBoxView",
            "box_style": "",
            "children": [
              "IPY_MODEL_6c3554c12c36440eb4945547545e8dbb",
              "IPY_MODEL_35bf53528e6944b1bca0f3201ae9684e",
              "IPY_MODEL_a68f9f339a7c4200adac2e4443a79fa5"
            ],
            "layout": "IPY_MODEL_a207292eba4f48288beda072909db868"
          }
        },
        "35bf53528e6944b1bca0f3201ae9684e": {
          "model_module": "@jupyter-widgets/controls",
          "model_module_version": "1.5.0",
          "model_name": "FloatProgressModel",
          "state": {
            "_dom_classes": [],
            "_model_module": "@jupyter-widgets/controls",
            "_model_module_version": "1.5.0",
            "_model_name": "FloatProgressModel",
            "_view_count": null,
            "_view_module": "@jupyter-widgets/controls",
            "_view_module_version": "1.5.0",
            "_view_name": "ProgressView",
            "bar_style": "success",
            "description": "",
            "description_tooltip": null,
            "layout": "IPY_MODEL_bd51f4d3eac6413686bae5dd1a3f80a1",
            "max": 435755888,
            "min": 0,
            "orientation": "horizontal",
            "style": "IPY_MODEL_85a21423bfab444dbfda2b0845c8c66a",
            "value": 435755888
          }
        },
        "53fa188369984bd5887384abc4b11e8d": {
          "model_module": "@jupyter-widgets/controls",
          "model_module_version": "1.5.0",
          "model_name": "DescriptionStyleModel",
          "state": {
            "_model_module": "@jupyter-widgets/controls",
            "_model_module_version": "1.5.0",
            "_model_name": "DescriptionStyleModel",
            "_view_count": null,
            "_view_module": "@jupyter-widgets/base",
            "_view_module_version": "1.2.0",
            "_view_name": "StyleView",
            "description_width": ""
          }
        },
        "6c3554c12c36440eb4945547545e8dbb": {
          "model_module": "@jupyter-widgets/controls",
          "model_module_version": "1.5.0",
          "model_name": "HTMLModel",
          "state": {
            "_dom_classes": [],
            "_model_module": "@jupyter-widgets/controls",
            "_model_module_version": "1.5.0",
            "_model_name": "HTMLModel",
            "_view_count": null,
            "_view_module": "@jupyter-widgets/controls",
            "_view_module_version": "1.5.0",
            "_view_name": "HTMLView",
            "description": "",
            "description_tooltip": null,
            "layout": "IPY_MODEL_00f810a6d9144b9db4ab44c80fce812f",
            "placeholder": "​",
            "style": "IPY_MODEL_53fa188369984bd5887384abc4b11e8d",
            "value": "model.safetensors: 100%"
          }
        },
        "7732c7e279b241adbc861f1b84e8da96": {
          "model_module": "@jupyter-widgets/controls",
          "model_module_version": "1.5.0",
          "model_name": "DescriptionStyleModel",
          "state": {
            "_model_module": "@jupyter-widgets/controls",
            "_model_module_version": "1.5.0",
            "_model_name": "DescriptionStyleModel",
            "_view_count": null,
            "_view_module": "@jupyter-widgets/base",
            "_view_module_version": "1.2.0",
            "_view_name": "StyleView",
            "description_width": ""
          }
        },
        "85a21423bfab444dbfda2b0845c8c66a": {
          "model_module": "@jupyter-widgets/controls",
          "model_module_version": "1.5.0",
          "model_name": "ProgressStyleModel",
          "state": {
            "_model_module": "@jupyter-widgets/controls",
            "_model_module_version": "1.5.0",
            "_model_name": "ProgressStyleModel",
            "_view_count": null,
            "_view_module": "@jupyter-widgets/base",
            "_view_module_version": "1.2.0",
            "_view_name": "StyleView",
            "bar_color": null,
            "description_width": ""
          }
        },
        "a207292eba4f48288beda072909db868": {
          "model_module": "@jupyter-widgets/base",
          "model_module_version": "1.2.0",
          "model_name": "LayoutModel",
          "state": {
            "_model_module": "@jupyter-widgets/base",
            "_model_module_version": "1.2.0",
            "_model_name": "LayoutModel",
            "_view_count": null,
            "_view_module": "@jupyter-widgets/base",
            "_view_module_version": "1.2.0",
            "_view_name": "LayoutView",
            "align_content": null,
            "align_items": null,
            "align_self": null,
            "border": null,
            "bottom": null,
            "display": null,
            "flex": null,
            "flex_flow": null,
            "grid_area": null,
            "grid_auto_columns": null,
            "grid_auto_flow": null,
            "grid_auto_rows": null,
            "grid_column": null,
            "grid_gap": null,
            "grid_row": null,
            "grid_template_areas": null,
            "grid_template_columns": null,
            "grid_template_rows": null,
            "height": null,
            "justify_content": null,
            "justify_items": null,
            "left": null,
            "margin": null,
            "max_height": null,
            "max_width": null,
            "min_height": null,
            "min_width": null,
            "object_fit": null,
            "object_position": null,
            "order": null,
            "overflow": null,
            "overflow_x": null,
            "overflow_y": null,
            "padding": null,
            "right": null,
            "top": null,
            "visibility": null,
            "width": null
          }
        },
        "a68f9f339a7c4200adac2e4443a79fa5": {
          "model_module": "@jupyter-widgets/controls",
          "model_module_version": "1.5.0",
          "model_name": "HTMLModel",
          "state": {
            "_dom_classes": [],
            "_model_module": "@jupyter-widgets/controls",
            "_model_module_version": "1.5.0",
            "_model_name": "HTMLModel",
            "_view_count": null,
            "_view_module": "@jupyter-widgets/controls",
            "_view_module_version": "1.5.0",
            "_view_name": "HTMLView",
            "description": "",
            "description_tooltip": null,
            "layout": "IPY_MODEL_b6f169bbb0cc46bdbfe72ae2cfea1fa7",
            "placeholder": "​",
            "style": "IPY_MODEL_7732c7e279b241adbc861f1b84e8da96",
            "value": " 436M/436M [00:06&lt;00:00, 158MB/s]"
          }
        },
        "b6f169bbb0cc46bdbfe72ae2cfea1fa7": {
          "model_module": "@jupyter-widgets/base",
          "model_module_version": "1.2.0",
          "model_name": "LayoutModel",
          "state": {
            "_model_module": "@jupyter-widgets/base",
            "_model_module_version": "1.2.0",
            "_model_name": "LayoutModel",
            "_view_count": null,
            "_view_module": "@jupyter-widgets/base",
            "_view_module_version": "1.2.0",
            "_view_name": "LayoutView",
            "align_content": null,
            "align_items": null,
            "align_self": null,
            "border": null,
            "bottom": null,
            "display": null,
            "flex": null,
            "flex_flow": null,
            "grid_area": null,
            "grid_auto_columns": null,
            "grid_auto_flow": null,
            "grid_auto_rows": null,
            "grid_column": null,
            "grid_gap": null,
            "grid_row": null,
            "grid_template_areas": null,
            "grid_template_columns": null,
            "grid_template_rows": null,
            "height": null,
            "justify_content": null,
            "justify_items": null,
            "left": null,
            "margin": null,
            "max_height": null,
            "max_width": null,
            "min_height": null,
            "min_width": null,
            "object_fit": null,
            "object_position": null,
            "order": null,
            "overflow": null,
            "overflow_x": null,
            "overflow_y": null,
            "padding": null,
            "right": null,
            "top": null,
            "visibility": null,
            "width": null
          }
        },
        "bd51f4d3eac6413686bae5dd1a3f80a1": {
          "model_module": "@jupyter-widgets/base",
          "model_module_version": "1.2.0",
          "model_name": "LayoutModel",
          "state": {
            "_model_module": "@jupyter-widgets/base",
            "_model_module_version": "1.2.0",
            "_model_name": "LayoutModel",
            "_view_count": null,
            "_view_module": "@jupyter-widgets/base",
            "_view_module_version": "1.2.0",
            "_view_name": "LayoutView",
            "align_content": null,
            "align_items": null,
            "align_self": null,
            "border": null,
            "bottom": null,
            "display": null,
            "flex": null,
            "flex_flow": null,
            "grid_area": null,
            "grid_auto_columns": null,
            "grid_auto_flow": null,
            "grid_auto_rows": null,
            "grid_column": null,
            "grid_gap": null,
            "grid_row": null,
            "grid_template_areas": null,
            "grid_template_columns": null,
            "grid_template_rows": null,
            "height": null,
            "justify_content": null,
            "justify_items": null,
            "left": null,
            "margin": null,
            "max_height": null,
            "max_width": null,
            "min_height": null,
            "min_width": null,
            "object_fit": null,
            "object_position": null,
            "order": null,
            "overflow": null,
            "overflow_x": null,
            "overflow_y": null,
            "padding": null,
            "right": null,
            "top": null,
            "visibility": null,
            "width": null
          }
        }
      }
    }
  },
  "nbformat": 4,
  "nbformat_minor": 0
}