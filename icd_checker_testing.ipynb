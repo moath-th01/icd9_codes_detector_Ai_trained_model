{
  "nbformat": 4,
  "nbformat_minor": 0,
  "metadata": {
    "colab": {
      "provenance": []
    },
    "kernelspec": {
      "name": "python3",
      "display_name": "Python 3"
    },
    "language_info": {
      "name": "python"
    }
  },
  "cells": [
    {
      "cell_type": "code",
      "execution_count": null,
      "metadata": {
        "id": "FzRat-iyxRaW"
      },
      "outputs": [],
      "source": [
        "\n",
        "!rm -rf ~/.cache/huggingface/datasets\n",
        "!pip install --upgrade datasets\n",
        "!pip install fsspec==2023.9.2\n",
        "!pip install datasets transformers scikit-learn --quiet"
      ]
    },
    {
      "cell_type": "code",
      "source": [
        "import torch\n",
        "\n",
        "from datasets import load_dataset\n",
        "\n",
        "import numpy as np"
      ],
      "metadata": {
        "id": "mTer78CexW4c"
      },
      "execution_count": null,
      "outputs": []
    },
    {
      "cell_type": "code",
      "source": [
        "ds = load_dataset(\"rntc/mimic-icd-visit\", split=\"train\")"
      ],
      "metadata": {
        "id": "NX3BaKLwxW6y"
      },
      "execution_count": null,
      "outputs": []
    },
    {
      "cell_type": "code",
      "source": [
        "# Function to retrieve cleaned_text for a given icd_code\n",
        "def get_texts_for_icd_code(target_icd):\n",
        "    results = []\n",
        "    for example in ds:\n",
        "        if target_icd in example[\"icd_code\"]:  # icd_code is a list\n",
        "            results.append(example[\"cleaned_text\"])\n",
        "    return results\n",
        "\n",
        "# Example usage\n",
        "icd_input = \"E785\"\n",
        "matched_texts = get_texts_for_icd_code(icd_input)\n",
        "\n",
        "# Print first few matches\n",
        "for i, text in enumerate(matched_texts[:5]):\n",
        "    print(f\"Example {i+1}:\\n{text}\\n{'-'*40}\")"
      ],
      "metadata": {
        "id": "Carg10CdxW9S"
      },
      "execution_count": null,
      "outputs": []
    },
    {
      "cell_type": "code",
      "source": [
        "for i in range(10):\n",
        "    print(f\"ICD Codes {i+1}: {ds[i]['icd_code']}\")\n"
      ],
      "metadata": {
        "id": "z7sugHaUxW_M"
      },
      "execution_count": null,
      "outputs": []
    },
    {
      "cell_type": "code",
      "source": [],
      "metadata": {
        "id": "SpvCly_WxXBr"
      },
      "execution_count": null,
      "outputs": []
    },
    {
      "cell_type": "code",
      "source": [],
      "metadata": {
        "id": "eJdrSkcPxXFI"
      },
      "execution_count": null,
      "outputs": []
    }
  ]
}